{
 "cells": [
  {
   "cell_type": "code",
   "execution_count": null,
   "metadata": {},
   "outputs": [],
   "source": [
    "import time\n",
    "import os\n",
    "import openai\n",
    "\n",
    "class Call_OpenAI:\n",
    "    def init(self, model=\"gpt-4o-mini\"):\n",
    "        self.count = 0\n",
    "        self.model = model\n",
    "        self.total_input_tokens = 0\n",
    "        self.total_output_tokens = 0\n",
    "        self.total_tokens = 0\n",
    "        # Models:       gpt-4o-mini, gpt-4\n",
    "\n",
    "    def repr(self):\n",
    "        return (f'Model: {self.model}, Api Calls: {self.count}, '\n",
    "                f'Input Tokens: {self.total_input_tokens}, '\n",
    "                f'Output Tokens: {self.total_output_tokens}, '\n",
    "                f'Total Tokens: {self.total_tokens}')\n",
    "\n",
    "    def call(self, prompt):\n",
    "        openai.api_key = \"\"\n",
    "\n",
    "        response = openai.chat.completions.create(\n",
    "            model=self.model,\n",
    "            messages=[\n",
    "                {\"role\": \"system\", \"content\": \"You are an expert Job matcher, analysing resume and job description.\"},\n",
    "                {\"role\": \"user\", \"content\": prompt},\n",
    "            ],\n",
    "            max_tokens=2048,\n",
    "            temperature=0.4\n",
    "        )\n",
    "        input_tokens = response.usage.prompt_tokens\n",
    "        output_tokens = response.usage.completion_tokens\n",
    "        total_tokens = response.usage.total_tokens\n",
    "\n",
    "        self.total_input_tokens += input_tokens\n",
    "        self.total_output_tokens += output_tokens\n",
    "        self.total_tokens += total_tokens\n",
    "        print(\n",
    "            f\"API Call #{self.count + 1} - Input: {input_tokens}, Output: {output_tokens}, Total: {total_tokens} tokens\")\n",
    "\n",
    "        self.count += 1\n",
    "        return response.choices[0].message.content.strip()"
   ]
  }
 ],
 "metadata": {
  "language_info": {
   "name": "python"
  }
 },
 "nbformat": 4,
 "nbformat_minor": 2
}
