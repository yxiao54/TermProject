{
 "cells": [
  {
   "cell_type": "code",
   "execution_count": null,
   "metadata": {},
   "outputs": [],
   "source": [
    "import pandas as pd\n",
    "# Loading the client to model to generate question decomposition\n",
    "from google import genai\n",
    "from tqdm import tqdm\n",
    "import time\n",
    "client = genai.Client(api_key=\"\")"
   ]
  },
  {
   "cell_type": "code",
   "execution_count": 40,
   "metadata": {},
   "outputs": [],
   "source": [
    "df = pd.read_csv(\"E:\\\\ASU PhD\\\\Coursework\\\\CSE576 Natural Language Processing\\\\FinalProject\\\\Code\\\\results\\\\results_k10.csv\")"
   ]
  },
  {
   "cell_type": "code",
   "execution_count": 41,
   "metadata": {},
   "outputs": [
    {
     "name": "stderr",
     "output_type": "stream",
     "text": [
      "100%|██████████| 42/42 [00:24<00:00,  1.69it/s]\n"
     ]
    }
   ],
   "source": [
    "all_responses = list()\n",
    "for ind in tqdm(df.index.values.tolist()):\n",
    "    gold_answer = df.loc[ind, 'Answer']\n",
    "    answer = df.loc[ind, 'Generated Answer']\n",
    "\n",
    "    answer_formatting_prompt = f\"\"\"\n",
    "            You will be given Answer and Gold Answer, you have to Convert the answer into a format of gold answer given above, if the content or meaning is same (semantically same) they should be same.\n",
    "\n",
    "            Few examples of convertion for your understanding:\n",
    "            \n",
    "            answer: ITA, gold answer: Italy. Reasoning- ITA is country code of Italy hence ITA and Italy are same and you can convert ITA to Italy.\n",
    "                        Your Output: Italy\n",
    "            answer: 17, gold answer: 17 years. Reasoning- 17 of answer is same as 17 years of the gold answer in the given context of question.\n",
    "                    Your Output: 17 years\n",
    "            answer : 10, gold answer: 10. Reasoning- Since, both values are already same no convertion is needed.\n",
    "                Your Output: 10\n",
    "            answer : 0, gold answer: 5. Reasoning- Since, both values are semantically not same no convertion is needed for the answer.\n",
    "                Your Output: 0\n",
    "            5.⁠ ⁠answer : The answer is not present in the table. , gold answer: 5. Reasoning- Since, both values are semantically not same no convertion is needed for the answer.\n",
    "                Your Output: The answer is not present in the table.    \n",
    "\n",
    "            Answer: {answer}\n",
    "            Gold Answer: {gold_answer}\n",
    "            Output:\"\"\"\n",
    "    \n",
    "    response = client.models.generate_content(model='gemini-1.5-pro', contents=answer_formatting_prompt)\n",
    "    all_responses.append(response)\n",
    "    "
   ]
  },
  {
   "cell_type": "code",
   "execution_count": 54,
   "metadata": {},
   "outputs": [],
   "source": [
    "final_responses = [i.text for i in all_responses]\n",
    "final_responses = [i.split('Output: ')[-1] for i in final_responses]\n",
    "final_responses = [i.replace('\\n', '') for i in final_responses]"
   ]
  },
  {
   "cell_type": "code",
   "execution_count": 55,
   "metadata": {},
   "outputs": [],
   "source": [
    "df['Edited Answer'] = final_responses"
   ]
  },
  {
   "cell_type": "code",
   "execution_count": null,
   "metadata": {},
   "outputs": [],
   "source": []
  },
  {
   "cell_type": "code",
   "execution_count": 56,
   "metadata": {},
   "outputs": [],
   "source": [
    "df['TF'] = (df['Answer'] == df['Edited Answer'])"
   ]
  },
  {
   "cell_type": "code",
   "execution_count": 57,
   "metadata": {},
   "outputs": [
    {
     "data": {
      "text/plain": [
       "TF\n",
       "True     31\n",
       "False    11\n",
       "Name: count, dtype: int64"
      ]
     },
     "execution_count": 57,
     "metadata": {},
     "output_type": "execute_result"
    }
   ],
   "source": [
    "df['TF'].value_counts()"
   ]
  },
  {
   "cell_type": "code",
   "execution_count": 58,
   "metadata": {},
   "outputs": [
    {
     "data": {
      "text/html": [
       "<div>\n",
       "<style scoped>\n",
       "    .dataframe tbody tr th:only-of-type {\n",
       "        vertical-align: middle;\n",
       "    }\n",
       "\n",
       "    .dataframe tbody tr th {\n",
       "        vertical-align: top;\n",
       "    }\n",
       "\n",
       "    .dataframe thead th {\n",
       "        text-align: right;\n",
       "    }\n",
       "</style>\n",
       "<table border=\"1\" class=\"dataframe\">\n",
       "  <thead>\n",
       "    <tr style=\"text-align: right;\">\n",
       "      <th></th>\n",
       "      <th>Unnamed: 0</th>\n",
       "      <th>Question</th>\n",
       "      <th>Answer</th>\n",
       "      <th>Generated Answer</th>\n",
       "      <th>Edited Answer</th>\n",
       "      <th>TF</th>\n",
       "    </tr>\n",
       "  </thead>\n",
       "  <tbody>\n",
       "    <tr>\n",
       "      <th>1</th>\n",
       "      <td>1</td>\n",
       "      <td>A.P. Warrior raced in the Santa Anita Derby at...</td>\n",
       "      <td>blue</td>\n",
       "      <td>The spires of Churchill Downs, venue of the Ke...</td>\n",
       "      <td>The spires of Churchill Downs, venue of the Ke...</td>\n",
       "      <td>False</td>\n",
       "    </tr>\n",
       "    <tr>\n",
       "      <th>5</th>\n",
       "      <td>10</td>\n",
       "      <td>On the logo of the team that played in the Mid...</td>\n",
       "      <td>4</td>\n",
       "      <td>This image contains no logo, so the question i...</td>\n",
       "      <td>This image contains no logo, so the question i...</td>\n",
       "      <td>False</td>\n",
       "    </tr>\n",
       "    <tr>\n",
       "      <th>12</th>\n",
       "      <td>18</td>\n",
       "      <td>The 1980 Frank Converse film poster has a man ...</td>\n",
       "      <td>pink</td>\n",
       "      <td>The woman is wearing orange pants.\\n</td>\n",
       "      <td>The woman is wearing orange pants.</td>\n",
       "      <td>False</td>\n",
       "    </tr>\n",
       "    <tr>\n",
       "      <th>15</th>\n",
       "      <td>22</td>\n",
       "      <td>On the poster for the TV show in which Tom Mis...</td>\n",
       "      <td>castle</td>\n",
       "      <td>Sleepy Hollow.\\n</td>\n",
       "      <td>Sleepy Hollow.</td>\n",
       "      <td>False</td>\n",
       "    </tr>\n",
       "    <tr>\n",
       "      <th>16</th>\n",
       "      <td>23</td>\n",
       "      <td>In the series that Tom Mison appeared in 2009,...</td>\n",
       "      <td>castle</td>\n",
       "      <td>The misty, rolling landscape of Sleepy Hollow.\\n</td>\n",
       "      <td>The misty, rolling landscape of Sleepy Hollow</td>\n",
       "      <td>False</td>\n",
       "    </tr>\n",
       "    <tr>\n",
       "      <th>18</th>\n",
       "      <td>25</td>\n",
       "      <td>Regarding the gymnast who had a final all arou...</td>\n",
       "      <td>white</td>\n",
       "      <td>She's standing on the beige part of the mat.\\n</td>\n",
       "      <td>She's standing on the beige part of the mat.</td>\n",
       "      <td>False</td>\n",
       "    </tr>\n",
       "    <tr>\n",
       "      <th>21</th>\n",
       "      <td>28</td>\n",
       "      <td>Sheila Allen played Ministry WItch#1 in a film...</td>\n",
       "      <td>wand</td>\n",
       "      <td>Goblet\\n</td>\n",
       "      <td>Goblet</td>\n",
       "      <td>False</td>\n",
       "    </tr>\n",
       "    <tr>\n",
       "      <th>24</th>\n",
       "      <td>31</td>\n",
       "      <td>On the poster for the video game where Billy W...</td>\n",
       "      <td>yes</td>\n",
       "      <td>No, there is no pig on the poster for *Tiny To...</td>\n",
       "      <td>No, there is no pig on the poster for *Tiny To...</td>\n",
       "      <td>False</td>\n",
       "    </tr>\n",
       "    <tr>\n",
       "      <th>25</th>\n",
       "      <td>32</td>\n",
       "      <td>The 1992 film featuring Kirk Baltz has how man...</td>\n",
       "      <td>five</td>\n",
       "      <td>There are six people on the Reservoir Dogs pos...</td>\n",
       "      <td>There are six people on the Reservoir Dogs pos...</td>\n",
       "      <td>False</td>\n",
       "    </tr>\n",
       "    <tr>\n",
       "      <th>37</th>\n",
       "      <td>46</td>\n",
       "      <td>Does Mike Amigorena's Toy Story 3 director hav...</td>\n",
       "      <td>no</td>\n",
       "      <td>Yes, Lee Unkrich, the director of Toy Story 3,...</td>\n",
       "      <td>Yes</td>\n",
       "      <td>False</td>\n",
       "    </tr>\n",
       "    <tr>\n",
       "      <th>40</th>\n",
       "      <td>50</td>\n",
       "      <td>The writer of the number one song in 2002 publ...</td>\n",
       "      <td>microphone</td>\n",
       "      <td>This question cannot be answered from the give...</td>\n",
       "      <td>This question cannot be answered from the give...</td>\n",
       "      <td>False</td>\n",
       "    </tr>\n",
       "  </tbody>\n",
       "</table>\n",
       "</div>"
      ],
      "text/plain": [
       "    Unnamed: 0                                           Question      Answer  \\\n",
       "1            1  A.P. Warrior raced in the Santa Anita Derby at...        blue   \n",
       "5           10  On the logo of the team that played in the Mid...           4   \n",
       "12          18  The 1980 Frank Converse film poster has a man ...        pink   \n",
       "15          22  On the poster for the TV show in which Tom Mis...      castle   \n",
       "16          23  In the series that Tom Mison appeared in 2009,...      castle   \n",
       "18          25  Regarding the gymnast who had a final all arou...       white   \n",
       "21          28  Sheila Allen played Ministry WItch#1 in a film...        wand   \n",
       "24          31  On the poster for the video game where Billy W...         yes   \n",
       "25          32  The 1992 film featuring Kirk Baltz has how man...        five   \n",
       "37          46  Does Mike Amigorena's Toy Story 3 director hav...          no   \n",
       "40          50  The writer of the number one song in 2002 publ...  microphone   \n",
       "\n",
       "                                     Generated Answer  \\\n",
       "1   The spires of Churchill Downs, venue of the Ke...   \n",
       "5   This image contains no logo, so the question i...   \n",
       "12               The woman is wearing orange pants.\\n   \n",
       "15                                   Sleepy Hollow.\\n   \n",
       "16   The misty, rolling landscape of Sleepy Hollow.\\n   \n",
       "18     She's standing on the beige part of the mat.\\n   \n",
       "21                                           Goblet\\n   \n",
       "24  No, there is no pig on the poster for *Tiny To...   \n",
       "25  There are six people on the Reservoir Dogs pos...   \n",
       "37  Yes, Lee Unkrich, the director of Toy Story 3,...   \n",
       "40  This question cannot be answered from the give...   \n",
       "\n",
       "                                        Edited Answer     TF  \n",
       "1   The spires of Churchill Downs, venue of the Ke...  False  \n",
       "5   This image contains no logo, so the question i...  False  \n",
       "12                 The woman is wearing orange pants.  False  \n",
       "15                                     Sleepy Hollow.  False  \n",
       "16      The misty, rolling landscape of Sleepy Hollow  False  \n",
       "18       She's standing on the beige part of the mat.  False  \n",
       "21                                             Goblet  False  \n",
       "24  No, there is no pig on the poster for *Tiny To...  False  \n",
       "25  There are six people on the Reservoir Dogs pos...  False  \n",
       "37                                                Yes  False  \n",
       "40  This question cannot be answered from the give...  False  "
      ]
     },
     "metadata": {},
     "output_type": "display_data"
    }
   ],
   "source": [
    "display(df[df['TF']==False])"
   ]
  },
  {
   "cell_type": "code",
   "execution_count": null,
   "metadata": {},
   "outputs": [
    {
     "name": "stdout",
     "output_type": "stream",
     "text": [
      "The woman in the 1990 Frank Converse film poster \"Everybody Wins\" isn't wearing pants.\n",
      "\n"
     ]
    }
   ],
   "source": []
  },
  {
   "cell_type": "code",
   "execution_count": null,
   "metadata": {},
   "outputs": [],
   "source": []
  },
  {
   "cell_type": "code",
   "execution_count": null,
   "metadata": {},
   "outputs": [],
   "source": []
  }
 ],
 "metadata": {
  "kernelspec": {
   "display_name": "base",
   "language": "python",
   "name": "python3"
  },
  "language_info": {
   "codemirror_mode": {
    "name": "ipython",
    "version": 3
   },
   "file_extension": ".py",
   "mimetype": "text/x-python",
   "name": "python",
   "nbconvert_exporter": "python",
   "pygments_lexer": "ipython3",
   "version": "3.12.3"
  }
 },
 "nbformat": 4,
 "nbformat_minor": 2
}
